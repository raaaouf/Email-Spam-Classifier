{
  "nbformat": 4,
  "nbformat_minor": 0,
  "metadata": {
    "colab": {
      "name": "Email Spam Classifier.ipynb",
      "provenance": [],
      "collapsed_sections": [
        "WxjIXTHn166k"
      ],
      "toc_visible": true
    },
    "kernelspec": {
      "name": "python3",
      "display_name": "Python 3"
    },
    "accelerator": "GPU"
  },
  "cells": [
    {
      "cell_type": "markdown",
      "metadata": {
        "id": "vJzpahl-yMNK",
        "colab_type": "text"
      },
      "source": [
        "![alt text](https://appliedmachinelearning.files.wordpress.com/2017/01/spam-filter.png?w=620)\n",
        "\n",
        "\n",
        "\n",
        "```\n",
        "Spam Filtering using SVM\n",
        "```\n",
        "\n"
      ]
    },
    {
      "cell_type": "markdown",
      "metadata": {
        "id": "CvGnFf2txDpl",
        "colab_type": "text"
      },
      "source": [
        "# Load Dataset"
      ]
    },
    {
      "cell_type": "markdown",
      "metadata": {
        "id": "OavNcdtx0vRG",
        "colab_type": "text"
      },
      "source": [
        "**Check the link for the dataset from Kaggle**\n",
        "https://www.kaggle.com/uciml/sms-spam-collection-dataset"
      ]
    },
    {
      "cell_type": "code",
      "metadata": {
        "id": "ysIlYHcKxJtg",
        "colab_type": "code",
        "colab": {}
      },
      "source": [
        "import numpy as np\n",
        "import pandas as pd\n",
        "import matplotlib.pyplot as plt\n",
        "%matplotlib inline"
      ],
      "execution_count": 16,
      "outputs": []
    },
    {
      "cell_type": "code",
      "metadata": {
        "id": "0Y295-K00tIG",
        "colab_type": "code",
        "colab": {}
      },
      "source": [
        "data = pd.read_csv('spamham.csv')"
      ],
      "execution_count": 3,
      "outputs": []
    },
    {
      "cell_type": "code",
      "metadata": {
        "id": "4uDamqQZ1ElL",
        "colab_type": "code",
        "colab": {
          "base_uri": "https://localhost:8080/",
          "height": 195
        },
        "outputId": "b2bbf12d-848d-40f8-f21c-21ade67548cb"
      },
      "source": [
        "data.head()"
      ],
      "execution_count": 4,
      "outputs": [
        {
          "output_type": "execute_result",
          "data": {
            "text/html": [
              "<div>\n",
              "<style scoped>\n",
              "    .dataframe tbody tr th:only-of-type {\n",
              "        vertical-align: middle;\n",
              "    }\n",
              "\n",
              "    .dataframe tbody tr th {\n",
              "        vertical-align: top;\n",
              "    }\n",
              "\n",
              "    .dataframe thead th {\n",
              "        text-align: right;\n",
              "    }\n",
              "</style>\n",
              "<table border=\"1\" class=\"dataframe\">\n",
              "  <thead>\n",
              "    <tr style=\"text-align: right;\">\n",
              "      <th></th>\n",
              "      <th>Category</th>\n",
              "      <th>Message</th>\n",
              "    </tr>\n",
              "  </thead>\n",
              "  <tbody>\n",
              "    <tr>\n",
              "      <th>0</th>\n",
              "      <td>ham</td>\n",
              "      <td>Go until jurong point, crazy.. Available only ...</td>\n",
              "    </tr>\n",
              "    <tr>\n",
              "      <th>1</th>\n",
              "      <td>ham</td>\n",
              "      <td>Ok lar... Joking wif u oni...</td>\n",
              "    </tr>\n",
              "    <tr>\n",
              "      <th>2</th>\n",
              "      <td>spam</td>\n",
              "      <td>Free entry in 2 a wkly comp to win FA Cup fina...</td>\n",
              "    </tr>\n",
              "    <tr>\n",
              "      <th>3</th>\n",
              "      <td>ham</td>\n",
              "      <td>U dun say so early hor... U c already then say...</td>\n",
              "    </tr>\n",
              "    <tr>\n",
              "      <th>4</th>\n",
              "      <td>ham</td>\n",
              "      <td>Nah I don't think he goes to usf, he lives aro...</td>\n",
              "    </tr>\n",
              "  </tbody>\n",
              "</table>\n",
              "</div>"
            ],
            "text/plain": [
              "  Category                                            Message\n",
              "0      ham  Go until jurong point, crazy.. Available only ...\n",
              "1      ham                      Ok lar... Joking wif u oni...\n",
              "2     spam  Free entry in 2 a wkly comp to win FA Cup fina...\n",
              "3      ham  U dun say so early hor... U c already then say...\n",
              "4      ham  Nah I don't think he goes to usf, he lives aro..."
            ]
          },
          "metadata": {
            "tags": []
          },
          "execution_count": 4
        }
      ]
    },
    {
      "cell_type": "code",
      "metadata": {
        "id": "CI6tR6-Bxjfx",
        "colab_type": "code",
        "colab": {
          "base_uri": "https://localhost:8080/",
          "height": 34
        },
        "outputId": "d2e56184-99ff-4404-c046-80e29163d7fe"
      },
      "source": [
        "data.shape"
      ],
      "execution_count": 5,
      "outputs": [
        {
          "output_type": "execute_result",
          "data": {
            "text/plain": [
              "(5572, 2)"
            ]
          },
          "metadata": {
            "tags": []
          },
          "execution_count": 5
        }
      ]
    },
    {
      "cell_type": "code",
      "metadata": {
        "id": "3t7fvV_xycL_",
        "colab_type": "code",
        "colab": {
          "base_uri": "https://localhost:8080/",
          "height": 34
        },
        "outputId": "85f46b61-6963-42ac-d54a-8582143b158a"
      },
      "source": [
        "print(\"We have\",data.shape[0],\"observations\")"
      ],
      "execution_count": 14,
      "outputs": [
        {
          "output_type": "stream",
          "text": [
            "We have 5572 observations\n"
          ],
          "name": "stdout"
        }
      ]
    },
    {
      "cell_type": "code",
      "metadata": {
        "id": "c52zVNRuykvC",
        "colab_type": "code",
        "colab": {}
      },
      "source": [
        "dis = data['Category'].value_counts()"
      ],
      "execution_count": 17,
      "outputs": []
    },
    {
      "cell_type": "code",
      "metadata": {
        "id": "88_HHVXDyqZ6",
        "colab_type": "code",
        "colab": {
          "base_uri": "https://localhost:8080/",
          "height": 50
        },
        "outputId": "faac34f8-ca78-4524-9e37-c841514da1f8"
      },
      "source": [
        "print(\"We have\",dis[0], 'normal mails')\n",
        "print(\"We have\",dis[1], 'spam mails')"
      ],
      "execution_count": 18,
      "outputs": [
        {
          "output_type": "stream",
          "text": [
            "We have 4825 normal mails\n",
            "We have 747 spam mails\n"
          ],
          "name": "stdout"
        }
      ]
    },
    {
      "cell_type": "markdown",
      "metadata": {
        "id": "o-MLFjttz5tW",
        "colab_type": "text"
      },
      "source": [
        "This is our distribution in the total data"
      ]
    },
    {
      "cell_type": "code",
      "metadata": {
        "id": "m8WOCUV_zUzc",
        "colab_type": "code",
        "colab": {
          "base_uri": "https://localhost:8080/",
          "height": 248
        },
        "outputId": "7e649d60-e5b3-47fa-bc72-517437c711bb"
      },
      "source": [
        "plt.pie(x = dis.values, explode = (0.1,0), labels = dis.index, autopct='%1.1f%%')\n",
        "plt.show()"
      ],
      "execution_count": 23,
      "outputs": [
        {
          "output_type": "display_data",
          "data": {
            "image/png": "[encoded data removed]",
            "text/plain": [
              "<Figure size 432x288 with 1 Axes>"
            ]
          },
          "metadata": {
            "tags": []
          }
        }
      ]
    },
    {
      "cell_type": "markdown",
      "metadata": {
        "id": "WwS5MgyP1SUY",
        "colab_type": "text"
      },
      "source": [
        "# Label Spam as 1 and Ham as 0"
      ]
    },
    {
      "cell_type": "markdown",
      "metadata": {
        "id": "WxjIXTHn166k",
        "colab_type": "text"
      },
      "source": [
        "### Using loc"
      ]
    },
    {
      "cell_type": "code",
      "metadata": {
        "id": "issNuL381xt2",
        "colab_type": "code",
        "colab": {
          "base_uri": "https://localhost:8080/",
          "height": 402
        },
        "outputId": "81ef5358-6036-446b-f43a-2166d472fc12"
      },
      "source": [
        "data.loc[data['Category'] == 'spam']"
      ],
      "execution_count": 29,
      "outputs": [
        {
          "output_type": "execute_result",
          "data": {
            "text/html": [
              "<div>\n",
              "<style scoped>\n",
              "    .dataframe tbody tr th:only-of-type {\n",
              "        vertical-align: middle;\n",
              "    }\n",
              "\n",
              "    .dataframe tbody tr th {\n",
              "        vertical-align: top;\n",
              "    }\n",
              "\n",
              "    .dataframe thead th {\n",
              "        text-align: right;\n",
              "    }\n",
              "</style>\n",
              "<table border=\"1\" class=\"dataframe\">\n",
              "  <thead>\n",
              "    <tr style=\"text-align: right;\">\n",
              "      <th></th>\n",
              "      <th>Category</th>\n",
              "      <th>Message</th>\n",
              "    </tr>\n",
              "  </thead>\n",
              "  <tbody>\n",
              "    <tr>\n",
              "      <th>2</th>\n",
              "      <td>spam</td>\n",
              "      <td>Free entry in 2 a wkly comp to win FA Cup fina...</td>\n",
              "    </tr>\n",
              "    <tr>\n",
              "      <th>5</th>\n",
              "      <td>spam</td>\n",
              "      <td>FreeMsg Hey there darling it's been 3 week's n...</td>\n",
              "    </tr>\n",
              "    <tr>\n",
              "      <th>8</th>\n",
              "      <td>spam</td>\n",
              "      <td>WINNER!! As a valued network customer you have...</td>\n",
              "    </tr>\n",
              "    <tr>\n",
              "      <th>9</th>\n",
              "      <td>spam</td>\n",
              "      <td>Had your mobile 11 months or more? U R entitle...</td>\n",
              "    </tr>\n",
              "    <tr>\n",
              "      <th>11</th>\n",
              "      <td>spam</td>\n",
              "      <td>SIX chances to win CASH! From 100 to 20,000 po...</td>\n",
              "    </tr>\n",
              "    <tr>\n",
              "      <th>...</th>\n",
              "      <td>...</td>\n",
              "      <td>...</td>\n",
              "    </tr>\n",
              "    <tr>\n",
              "      <th>5537</th>\n",
              "      <td>spam</td>\n",
              "      <td>Want explicit SEX in 30 secs? Ring 02073162414...</td>\n",
              "    </tr>\n",
              "    <tr>\n",
              "      <th>5540</th>\n",
              "      <td>spam</td>\n",
              "      <td>ASKED 3MOBILE IF 0870 CHATLINES INCLU IN FREE ...</td>\n",
              "    </tr>\n",
              "    <tr>\n",
              "      <th>5547</th>\n",
              "      <td>spam</td>\n",
              "      <td>Had your contract mobile 11 Mnths? Latest Moto...</td>\n",
              "    </tr>\n",
              "    <tr>\n",
              "      <th>5566</th>\n",
              "      <td>spam</td>\n",
              "      <td>REMINDER FROM O2: To get 2.50 pounds free call...</td>\n",
              "    </tr>\n",
              "    <tr>\n",
              "      <th>5567</th>\n",
              "      <td>spam</td>\n",
              "      <td>This is the 2nd time we have tried 2 contact u...</td>\n",
              "    </tr>\n",
              "  </tbody>\n",
              "</table>\n",
              "<p>747 rows × 2 columns</p>\n",
              "</div>"
            ],
            "text/plain": [
              "     Category                                            Message\n",
              "2        spam  Free entry in 2 a wkly comp to win FA Cup fina...\n",
              "5        spam  FreeMsg Hey there darling it's been 3 week's n...\n",
              "8        spam  WINNER!! As a valued network customer you have...\n",
              "9        spam  Had your mobile 11 months or more? U R entitle...\n",
              "11       spam  SIX chances to win CASH! From 100 to 20,000 po...\n",
              "...       ...                                                ...\n",
              "5537     spam  Want explicit SEX in 30 secs? Ring 02073162414...\n",
              "5540     spam  ASKED 3MOBILE IF 0870 CHATLINES INCLU IN FREE ...\n",
              "5547     spam  Had your contract mobile 11 Mnths? Latest Moto...\n",
              "5566     spam  REMINDER FROM O2: To get 2.50 pounds free call...\n",
              "5567     spam  This is the 2nd time we have tried 2 contact u...\n",
              "\n",
              "[747 rows x 2 columns]"
            ]
          },
          "metadata": {
            "tags": []
          },
          "execution_count": 29
        }
      ]
    },
    {
      "cell_type": "code",
      "metadata": {
        "id": "iHYdKEqs2S3D",
        "colab_type": "code",
        "colab": {
          "base_uri": "https://localhost:8080/",
          "height": 218
        },
        "outputId": "2857946d-5444-4988-f8bb-b08af806e9a3"
      },
      "source": [
        "data.loc[data['Category'] == 'spam']['Category']"
      ],
      "execution_count": 30,
      "outputs": [
        {
          "output_type": "execute_result",
          "data": {
            "text/plain": [
              "2       spam\n",
              "5       spam\n",
              "8       spam\n",
              "9       spam\n",
              "11      spam\n",
              "        ... \n",
              "5537    spam\n",
              "5540    spam\n",
              "5547    spam\n",
              "5566    spam\n",
              "5567    spam\n",
              "Name: Category, Length: 747, dtype: object"
            ]
          },
          "metadata": {
            "tags": []
          },
          "execution_count": 30
        }
      ]
    },
    {
      "cell_type": "code",
      "metadata": {
        "id": "LGaZJrWg2GC9",
        "colab_type": "code",
        "colab": {
          "base_uri": "https://localhost:8080/",
          "height": 195
        },
        "outputId": "372b2dfa-7bc5-4247-a4fb-cf6cd29d2e6e"
      },
      "source": [
        "data.loc[data['Category'] == 'spam', 'Category'] = 1\n",
        "data.loc[data['Category'] == 'ham', 'Category'] = 0\n",
        "data.head()"
      ],
      "execution_count": 35,
      "outputs": [
        {
          "output_type": "execute_result",
          "data": {
            "text/html": [
              "<div>\n",
              "<style scoped>\n",
              "    .dataframe tbody tr th:only-of-type {\n",
              "        vertical-align: middle;\n",
              "    }\n",
              "\n",
              "    .dataframe tbody tr th {\n",
              "        vertical-align: top;\n",
              "    }\n",
              "\n",
              "    .dataframe thead th {\n",
              "        text-align: right;\n",
              "    }\n",
              "</style>\n",
              "<table border=\"1\" class=\"dataframe\">\n",
              "  <thead>\n",
              "    <tr style=\"text-align: right;\">\n",
              "      <th></th>\n",
              "      <th>Category</th>\n",
              "      <th>Message</th>\n",
              "    </tr>\n",
              "  </thead>\n",
              "  <tbody>\n",
              "    <tr>\n",
              "      <th>0</th>\n",
              "      <td>0</td>\n",
              "      <td>Go until jurong point, crazy.. Available only ...</td>\n",
              "    </tr>\n",
              "    <tr>\n",
              "      <th>1</th>\n",
              "      <td>0</td>\n",
              "      <td>Ok lar... Joking wif u oni...</td>\n",
              "    </tr>\n",
              "    <tr>\n",
              "      <th>2</th>\n",
              "      <td>1</td>\n",
              "      <td>Free entry in 2 a wkly comp to win FA Cup fina...</td>\n",
              "    </tr>\n",
              "    <tr>\n",
              "      <th>3</th>\n",
              "      <td>0</td>\n",
              "      <td>U dun say so early hor... U c already then say...</td>\n",
              "    </tr>\n",
              "    <tr>\n",
              "      <th>4</th>\n",
              "      <td>0</td>\n",
              "      <td>Nah I don't think he goes to usf, he lives aro...</td>\n",
              "    </tr>\n",
              "  </tbody>\n",
              "</table>\n",
              "</div>"
            ],
            "text/plain": [
              "  Category                                            Message\n",
              "0        0  Go until jurong point, crazy.. Available only ...\n",
              "1        0                      Ok lar... Joking wif u oni...\n",
              "2        1  Free entry in 2 a wkly comp to win FA Cup fina...\n",
              "3        0  U dun say so early hor... U c already then say...\n",
              "4        0  Nah I don't think he goes to usf, he lives aro..."
            ]
          },
          "metadata": {
            "tags": []
          },
          "execution_count": 35
        }
      ]
    },
    {
      "cell_type": "markdown",
      "metadata": {
        "id": "HL8Gddrq20OZ",
        "colab_type": "text"
      },
      "source": [
        "### Use get_dummies"
      ]
    },
    {
      "cell_type": "code",
      "metadata": {
        "id": "0oWqIPQv0NvW",
        "colab_type": "code",
        "colab": {
          "base_uri": "https://localhost:8080/",
          "height": 402
        },
        "outputId": "d3905333-8b30-490d-94c9-23821ed69a86"
      },
      "source": [
        "pd.get_dummies(data['Category'])"
      ],
      "execution_count": 24,
      "outputs": [
        {
          "output_type": "execute_result",
          "data": {
            "text/html": [
              "<div>\n",
              "<style scoped>\n",
              "    .dataframe tbody tr th:only-of-type {\n",
              "        vertical-align: middle;\n",
              "    }\n",
              "\n",
              "    .dataframe tbody tr th {\n",
              "        vertical-align: top;\n",
              "    }\n",
              "\n",
              "    .dataframe thead th {\n",
              "        text-align: right;\n",
              "    }\n",
              "</style>\n",
              "<table border=\"1\" class=\"dataframe\">\n",
              "  <thead>\n",
              "    <tr style=\"text-align: right;\">\n",
              "      <th></th>\n",
              "      <th>ham</th>\n",
              "      <th>spam</th>\n",
              "    </tr>\n",
              "  </thead>\n",
              "  <tbody>\n",
              "    <tr>\n",
              "      <th>0</th>\n",
              "      <td>1</td>\n",
              "      <td>0</td>\n",
              "    </tr>\n",
              "    <tr>\n",
              "      <th>1</th>\n",
              "      <td>1</td>\n",
              "      <td>0</td>\n",
              "    </tr>\n",
              "    <tr>\n",
              "      <th>2</th>\n",
              "      <td>0</td>\n",
              "      <td>1</td>\n",
              "    </tr>\n",
              "    <tr>\n",
              "      <th>3</th>\n",
              "      <td>1</td>\n",
              "      <td>0</td>\n",
              "    </tr>\n",
              "    <tr>\n",
              "      <th>4</th>\n",
              "      <td>1</td>\n",
              "      <td>0</td>\n",
              "    </tr>\n",
              "    <tr>\n",
              "      <th>...</th>\n",
              "      <td>...</td>\n",
              "      <td>...</td>\n",
              "    </tr>\n",
              "    <tr>\n",
              "      <th>5567</th>\n",
              "      <td>0</td>\n",
              "      <td>1</td>\n",
              "    </tr>\n",
              "    <tr>\n",
              "      <th>5568</th>\n",
              "      <td>1</td>\n",
              "      <td>0</td>\n",
              "    </tr>\n",
              "    <tr>\n",
              "      <th>5569</th>\n",
              "      <td>1</td>\n",
              "      <td>0</td>\n",
              "    </tr>\n",
              "    <tr>\n",
              "      <th>5570</th>\n",
              "      <td>1</td>\n",
              "      <td>0</td>\n",
              "    </tr>\n",
              "    <tr>\n",
              "      <th>5571</th>\n",
              "      <td>1</td>\n",
              "      <td>0</td>\n",
              "    </tr>\n",
              "  </tbody>\n",
              "</table>\n",
              "<p>5572 rows × 2 columns</p>\n",
              "</div>"
            ],
            "text/plain": [
              "      ham  spam\n",
              "0       1     0\n",
              "1       1     0\n",
              "2       0     1\n",
              "3       1     0\n",
              "4       1     0\n",
              "...   ...   ...\n",
              "5567    0     1\n",
              "5568    1     0\n",
              "5569    1     0\n",
              "5570    1     0\n",
              "5571    1     0\n",
              "\n",
              "[5572 rows x 2 columns]"
            ]
          },
          "metadata": {
            "tags": []
          },
          "execution_count": 24
        }
      ]
    },
    {
      "cell_type": "markdown",
      "metadata": {
        "id": "V_xvtLSn1LhT",
        "colab_type": "text"
      },
      "source": [
        "Select whether you need the ham as 1 or spam as 1 and insert that column into the data and drop the categorical category already present in the dataframe"
      ]
    },
    {
      "cell_type": "markdown",
      "metadata": {
        "id": "oHmphHCn3NTh",
        "colab_type": "text"
      },
      "source": [
        "# Build the classic X and y\n",
        "## X -> Feature y -> Label"
      ]
    },
    {
      "cell_type": "code",
      "metadata": {
        "id": "84grRwSL3jNR",
        "colab_type": "code",
        "colab": {}
      },
      "source": [
        "X = data['Message']\n",
        "y = data['Category']"
      ],
      "execution_count": 36,
      "outputs": []
    },
    {
      "cell_type": "code",
      "metadata": {
        "id": "-tfgiAHX3pc0",
        "colab_type": "code",
        "colab": {
          "base_uri": "https://localhost:8080/",
          "height": 437
        },
        "outputId": "92381cf0-e097-4581-a7e4-fef9307a63ba"
      },
      "source": [
        "print(X,'\\n\\n',y)"
      ],
      "execution_count": 40,
      "outputs": [
        {
          "output_type": "stream",
          "text": [
            "0       Go until jurong point, crazy.. Available only ...\n",
            "1                           Ok lar... Joking wif u oni...\n",
            "2       Free entry in 2 a wkly comp to win FA Cup fina...\n",
            "3       U dun say so early hor... U c already then say...\n",
            "4       Nah I don't think he goes to usf, he lives aro...\n",
            "                              ...                        \n",
            "5567    This is the 2nd time we have tried 2 contact u...\n",
            "5568                 Will ü b going to esplanade fr home?\n",
            "5569    Pity, * was in mood for that. So...any other s...\n",
            "5570    The guy did some bitching but I acted like i'd...\n",
            "5571                           Rofl. Its true to its name\n",
            "Name: Message, Length: 5572, dtype: object \n",
            "\n",
            " 0       0\n",
            "1       0\n",
            "2       1\n",
            "3       0\n",
            "4       0\n",
            "       ..\n",
            "5567    1\n",
            "5568    0\n",
            "5569    0\n",
            "5570    0\n",
            "5571    0\n",
            "Name: Category, Length: 5572, dtype: object\n"
          ],
          "name": "stdout"
        }
      ]
    },
    {
      "cell_type": "markdown",
      "metadata": {
        "id": "pBXMQvY83sJB",
        "colab_type": "text"
      },
      "source": [
        "# Train - Test Split"
      ]
    },
    {
      "cell_type": "code",
      "metadata": {
        "id": "Hj_VWmkZ4Bm0",
        "colab_type": "code",
        "colab": {}
      },
      "source": [
        "from sklearn.model_selection import train_test_split"
      ],
      "execution_count": 41,
      "outputs": []
    },
    {
      "cell_type": "code",
      "metadata": {
        "id": "7hGOqtuv4HXY",
        "colab_type": "code",
        "colab": {}
      },
      "source": [
        "X_train, X_test, y_train, y_test = train_test_split(X, y, train_size = 0.8)"
      ],
      "execution_count": 43,
      "outputs": []
    },
    {
      "cell_type": "code",
      "metadata": {
        "id": "74kuTVo84TfL",
        "colab_type": "code",
        "colab": {
          "base_uri": "https://localhost:8080/",
          "height": 101
        },
        "outputId": "04632dbd-e56b-4450-bc85-6ac16eb40339"
      },
      "source": [
        "print(\"Entire data   :\", data.shape)\n",
        "print(\"X_train shape : \", X_train.shape)\n",
        "print(\"y_train shape : \", y_train.shape)\n",
        "print(\"X_test shape  : \", X_test.shape)\n",
        "print(\"y_test shape  : \", y_test.shape)"
      ],
      "execution_count": 44,
      "outputs": [
        {
          "output_type": "stream",
          "text": [
            "Entire data   : (5572, 2)\n",
            "X_train shape :  (4457,)\n",
            "y_train shape :  (4457,)\n",
            "X_test shape  :  (1115,)\n",
            "y_test shape  :  (1115,)\n"
          ],
          "name": "stdout"
        }
      ]
    },
    {
      "cell_type": "code",
      "metadata": {
        "id": "JrFU9pEt4uuX",
        "colab_type": "code",
        "colab": {
          "base_uri": "https://localhost:8080/",
          "height": 34
        },
        "outputId": "ccbad942-4947-46b2-edde-7667a6e764dc"
      },
      "source": [
        "1115/5572"
      ],
      "execution_count": 45,
      "outputs": [
        {
          "output_type": "execute_result",
          "data": {
            "text/plain": [
              "0.20010768126346015"
            ]
          },
          "metadata": {
            "tags": []
          },
          "execution_count": 45
        }
      ]
    },
    {
      "cell_type": "markdown",
      "metadata": {
        "id": "yhaVoRRR42FV",
        "colab_type": "text"
      },
      "source": [
        "0.2 % is maintained as we have given"
      ]
    },
    {
      "cell_type": "markdown",
      "metadata": {
        "id": "_LOmEqQX4yMD",
        "colab_type": "text"
      },
      "source": [
        "# Feature Extraction"
      ]
    },
    {
      "cell_type": "code",
      "metadata": {
        "id": "3k6tJ0Xv5AK9",
        "colab_type": "code",
        "colab": {}
      },
      "source": [
        "from sklearn.feature_extraction.text import TfidfVectorizer"
      ],
      "execution_count": 47,
      "outputs": []
    },
    {
      "cell_type": "markdown",
      "metadata": {
        "id": "5E20Vhjh6n28",
        "colab_type": "text"
      },
      "source": [
        "## Why use Tfidf"
      ]
    },
    {
      "cell_type": "markdown",
      "metadata": {
        "id": "HhgU1TfF7K3d",
        "colab_type": "text"
      },
      "source": [
        "Classic approach is to use a bad of words \n",
        "\n",
        "Why we chose Tfidf"
      ]
    },
    {
      "cell_type": "markdown",
      "metadata": {
        "id": "aL_0VClN7ZlT",
        "colab_type": "text"
      },
      "source": [
        "![alt text](https://miro.medium.com/max/571/1*wArU3CMFB9kqhQaZUYt-1w.png)"
      ]
    },
    {
      "cell_type": "markdown",
      "metadata": {
        "id": "tSxxy3Qu7dYZ",
        "colab_type": "text"
      },
      "source": [
        "![alt text](https://miro.medium.com/max/462/1*WHwfRvjRyHEH5kPOom9bOg.png)"
      ]
    },
    {
      "cell_type": "markdown",
      "metadata": {
        "id": "4T84XVP27rb1",
        "colab_type": "text"
      },
      "source": [
        "For example, there are two messages in the dataset. \n",
        "\n",
        "‘hello world’ and ‘hello foo bar’. \n",
        "\n",
        "1.TF(‘hello’) is 2. \n",
        "\n",
        "     Since hello appears once in the message and has hello in both of the message 2/1\n",
        "\n",
        "2.IDF(‘hello’) is log(2/2). \n",
        "\n",
        "If a word occurs a lot, it means that the word gives less information. \n",
        "\n",
        "say irrelevant words like mail recieves a high impact so that it will be a spam, as a result of using tfidf we will have rare things like offer have high impact"
      ]
    },
    {
      "cell_type": "markdown",
      "metadata": {
        "id": "EH3gaq8G5W3J",
        "colab_type": "text"
      },
      "source": [
        "![alt text](https://miro.medium.com/max/699/1*8_zBdbrnrt0VTdoCENLdNw.png)"
      ]
    },
    {
      "cell_type": "markdown",
      "metadata": {
        "id": "KmMkr8sQ-yCY",
        "colab_type": "text"
      },
      "source": [
        "min_df = When building the vocabulary ignore terms that have a document  \n",
        "    frequency strictly lower than the given threshold. This value is also  \n",
        "    called cut-off in the literature.\n",
        "\n",
        "Stop words are words like a,an,are,etc."
      ]
    },
    {
      "cell_type": "code",
      "metadata": {
        "id": "P6asj4ss6FJZ",
        "colab_type": "code",
        "colab": {}
      },
      "source": [
        "extractor = TfidfVectorizer(min_df = 1, stop_words = 'english', lowercase=True )"
      ],
      "execution_count": 49,
      "outputs": []
    },
    {
      "cell_type": "code",
      "metadata": {
        "id": "-M5Fdlm-_HFA",
        "colab_type": "code",
        "colab": {}
      },
      "source": [
        "X_train_features = extractor.fit_transform(X_train)\n",
        "X_test_features = extractor.transform(X_test)"
      ],
      "execution_count": 75,
      "outputs": []
    },
    {
      "cell_type": "code",
      "metadata": {
        "id": "YmuQbgbq_UEM",
        "colab_type": "code",
        "colab": {}
      },
      "source": [
        "# Convert object type to int\n",
        "y_train = y_train.astype(int)\n",
        "y_test = y_test.astype(int)"
      ],
      "execution_count": 56,
      "outputs": []
    },
    {
      "cell_type": "markdown",
      "metadata": {
        "id": "SM97jgEU_Xn5",
        "colab_type": "text"
      },
      "source": [
        "# Build the model"
      ]
    },
    {
      "cell_type": "markdown",
      "metadata": {
        "id": "cnunaNAm_13_",
        "colab_type": "text"
      },
      "source": [
        "**SVM model**"
      ]
    },
    {
      "cell_type": "markdown",
      "metadata": {
        "id": "qo33JHJMAMJ1",
        "colab_type": "text"
      },
      "source": [
        "![alt text](https://www.researchgate.net/publication/304611323/figure/fig8/AS:668377215406089@1536364954428/Classification-of-data-by-support-vector-machine-SVM.png)"
      ]
    },
    {
      "cell_type": "markdown",
      "metadata": {
        "id": "sU0QP2ucALe9",
        "colab_type": "text"
      },
      "source": [
        "SVM builds a classifier by searching for a separating hyperplane (optimal hyperplane) which is optimal and maximises the margin that separates the categories (in our case spam and ham). Thus, SVM has the advantage of robustness in general and effectiveness when the number of dimensions is greater than the number of samples."
      ]
    },
    {
      "cell_type": "code",
      "metadata": {
        "id": "lbOy-YXzA205",
        "colab_type": "code",
        "colab": {}
      },
      "source": [
        "from sklearn.svm import LinearSVC"
      ],
      "execution_count": 58,
      "outputs": []
    },
    {
      "cell_type": "code",
      "metadata": {
        "id": "5PcC1TumBydx",
        "colab_type": "code",
        "colab": {}
      },
      "source": [
        "model = LinearSVC()"
      ],
      "execution_count": 59,
      "outputs": []
    },
    {
      "cell_type": "code",
      "metadata": {
        "id": "s0CzWMiIB5nB",
        "colab_type": "code",
        "colab": {
          "base_uri": "https://localhost:8080/",
          "height": 84
        },
        "outputId": "f51a29ba-41cc-40d8-f2f9-963a6ac1418e"
      },
      "source": [
        "model.fit(X_train_features, y_train)"
      ],
      "execution_count": 63,
      "outputs": [
        {
          "output_type": "execute_result",
          "data": {
            "text/plain": [
              "LinearSVC(C=1.0, class_weight=None, dual=True, fit_intercept=True,\n",
              "          intercept_scaling=1, loss='squared_hinge', max_iter=1000,\n",
              "          multi_class='ovr', penalty='l2', random_state=None, tol=0.0001,\n",
              "          verbose=0)"
            ]
          },
          "metadata": {
            "tags": []
          },
          "execution_count": 63
        }
      ]
    },
    {
      "cell_type": "markdown",
      "metadata": {
        "id": "3-_ke_oEB-TM",
        "colab_type": "text"
      },
      "source": [
        "# Evaluate the model"
      ]
    },
    {
      "cell_type": "code",
      "metadata": {
        "id": "eMB4RdpMCb1H",
        "colab_type": "code",
        "colab": {}
      },
      "source": [
        "from sklearn.metrics import accuracy_score"
      ],
      "execution_count": 65,
      "outputs": []
    },
    {
      "cell_type": "code",
      "metadata": {
        "id": "GY5E-flCCWoS",
        "colab_type": "code",
        "colab": {
          "base_uri": "https://localhost:8080/",
          "height": 34
        },
        "outputId": "1c25112c-67ea-4732-da79-4d52feff9852"
      },
      "source": [
        "train_pred = model.predict(X_train_features)\n",
        "print(\"Training accuracy : \",accuracy_score(y_train, train_pred))"
      ],
      "execution_count": 71,
      "outputs": [
        {
          "output_type": "stream",
          "text": [
            "Training accuracy:  0.9995512676688355\n"
          ],
          "name": "stdout"
        }
      ]
    },
    {
      "cell_type": "code",
      "metadata": {
        "id": "j6xQysAoCoup",
        "colab_type": "code",
        "colab": {
          "base_uri": "https://localhost:8080/",
          "height": 34
        },
        "outputId": "83cfc372-1c7e-431e-baac-29ce923b619d"
      },
      "source": [
        "test_pred = model.predict(X_test_features)\n",
        "print(\"Test accuracy : \",accuracy_score(y_test, test_pred))"
      ],
      "execution_count": 76,
      "outputs": [
        {
          "output_type": "stream",
          "text": [
            "Test accuracy :  0.9838565022421525\n"
          ],
          "name": "stdout"
        }
      ]
    },
    {
      "cell_type": "markdown",
      "metadata": {
        "id": "402uiWNoDdtd",
        "colab_type": "text"
      },
      "source": [
        "# Checking"
      ]
    },
    {
      "cell_type": "code",
      "metadata": {
        "id": "AoA1xLu-EMGY",
        "colab_type": "code",
        "colab": {}
      },
      "source": [
        "mail = [\"WINNER!! As a valued network customer you have been selected to receivea Â£900 prize reward! To claim call 09061701461. Claim code KL341. Valid 12 hours only.\"]"
      ],
      "execution_count": 87,
      "outputs": []
    },
    {
      "cell_type": "code",
      "metadata": {
        "id": "ufZkNoxJEu3b",
        "colab_type": "code",
        "colab": {}
      },
      "source": [
        "processed = extractor.transform(mail)"
      ],
      "execution_count": 88,
      "outputs": []
    },
    {
      "cell_type": "code",
      "metadata": {
        "id": "Tw2a3mjpFGwA",
        "colab_type": "code",
        "colab": {
          "base_uri": "https://localhost:8080/",
          "height": 34
        },
        "outputId": "e8c70674-1da2-4402-c84e-8957fcd93845"
      },
      "source": [
        "model.predict(processed)"
      ],
      "execution_count": 89,
      "outputs": [
        {
          "output_type": "execute_result",
          "data": {
            "text/plain": [
              "array([1])"
            ]
          },
          "metadata": {
            "tags": []
          },
          "execution_count": 89
        }
      ]
    },
    {
      "cell_type": "markdown",
      "metadata": {
        "id": "gAFmPBnlGAym",
        "colab_type": "text"
      },
      "source": [
        "Your model may not give best output because it hasn't seen a lot of data.\n",
        "\n",
        "You can implement this model using a large dataset and you will be able to build a better model"
      ]
    },
    {
      "cell_type": "markdown",
      "metadata": {
        "id": "TZG73sAtFH5W",
        "colab_type": "text"
      },
      "source": [
        "# Success"
      ]
    }
  ]
}